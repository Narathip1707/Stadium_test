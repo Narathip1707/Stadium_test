{
 "cells": [
  {
   "cell_type": "markdown",
   "id": "fc86c95d",
   "metadata": {},
   "source": [
    "# Class diagram "
   ]
  }
 ],
 "metadata": {
  "language_info": {
   "name": "python"
  }
 },
 "nbformat": 4,
 "nbformat_minor": 5
}
